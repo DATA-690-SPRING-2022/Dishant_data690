{
  "nbformat": 4,
  "nbformat_minor": 0,
  "metadata": {
    "colab": {
      "name": "part_1.ipynb",
      "provenance": [],
      "authorship_tag": "ABX9TyNysoYaaM1rmF6KKzTLkF8d",
      "include_colab_link": true
    },
    "kernelspec": {
      "name": "python3",
      "display_name": "Python 3"
    },
    "language_info": {
      "name": "python"
    }
  },
  "cells": [
    {
      "cell_type": "markdown",
      "metadata": {
        "id": "view-in-github",
        "colab_type": "text"
      },
      "source": [
        "<a href=\"https://colab.research.google.com/github/DISHANTJOSHI1/dishant_data690/blob/main/assignment_05/part_1.ipynb\" target=\"_parent\"><img src=\"https://colab.research.google.com/assets/colab-badge.svg\" alt=\"Open In Colab\"/></a>"
      ]
    },
    {
      "cell_type": "markdown",
      "source": [
        "#What is data analysis?"
      ],
      "metadata": {
        "id": "-NO106VwwIAI"
      }
    },
    {
      "cell_type": "markdown",
      "source": [
        "Data analysis is a process of inspecting, cleansing, transforming, and modelling data with the goal of discovering useful information, informing conclusions, and supporting decision-making."
      ],
      "metadata": {
        "id": "S1xBxaltwLBk"
      }
    },
    {
      "cell_type": "markdown",
      "source": [
        "# What are Different Tools Data Analysis ?"
      ],
      "metadata": {
        "id": "kCy0POmtwK-W"
      }
    },
    {
      "cell_type": "markdown",
      "source": [
        "\n",
        "\n",
        "1.   Auto-Managed Closed Tools: Tableau, Powerbi, Jupyter Notebook,  Qlick,Excel\n",
        "2.   Programming Languages: Python, R, Julia,\n",
        "\n"
      ],
      "metadata": {
        "id": "SeFXLoGbwK7e"
      }
    },
    {
      "cell_type": "markdown",
      "source": [
        "# Why Python is prefered?"
      ],
      "metadata": {
        "id": "BIPg5sv0wK5A"
      }
    },
    {
      "cell_type": "markdown",
      "source": [
        "Python is a popular programming language in scientific computing, because it has many data-oriented feature packages that can speed up and simplify data processing, thus saving time."
      ],
      "metadata": {
        "id": "XyjQu92ZwK2i"
      }
    },
    {
      "cell_type": "markdown",
      "source": [
        "# When do one use R langauge for data analysis?\n"
      ],
      "metadata": {
        "id": "vkhmYds4wK0A"
      }
    },
    {
      "cell_type": "markdown",
      "source": [
        "When advance stastical methods are implemented which requires extreme performece R is used."
      ],
      "metadata": {
        "id": "Zl0jqfkbwKxf"
      }
    },
    {
      "cell_type": "markdown",
      "source": [
        "# Steps for Data Analysis Process"
      ],
      "metadata": {
        "id": "tcXwRgktwKvA"
      }
    },
    {
      "cell_type": "markdown",
      "source": [
        "inspecting, cleansing, transforming, and modelling data\n",
        "\n",
        "*   Data Collection\n",
        "*   Data Cleaning\n",
        "*   Date wrangling\n",
        "*   Analyzing The Data\n",
        "*   Interpreting The Results\n",
        "\n",
        "\n",
        "\n",
        "\n",
        "\n"
      ],
      "metadata": {
        "id": "nzBNqE2GwKr5"
      }
    },
    {
      "cell_type": "markdown",
      "source": [
        "#Python Libraries for Data Analysis"
      ],
      "metadata": {
        "id": "c8-rVsQgwKp5"
      }
    },
    {
      "cell_type": "markdown",
      "source": [
        "- pandas: foundation library used for data analysis and cleaning\n",
        "- numpy:  for numerical computation in Python\n",
        "- matplotlib: visualization foundation library\n",
        "- seaborn: visualization tool built on top of matplotlib\n",
        "- statsmodels: library with many advanced statistical functions\n",
        "- scipy: advanced scientific computing, with functions for optimization,linear algebra, image processing, etc\n",
        "- scikit-learn: most popular machine learning library for Python"
      ],
      "metadata": {
        "id": "GX8IWFmpwKmj"
      }
    }
  ]
}