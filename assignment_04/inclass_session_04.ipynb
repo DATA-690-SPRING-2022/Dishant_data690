{
  "nbformat": 4,
  "nbformat_minor": 0,
  "metadata": {
    "colab": {
      "name": "inclass_session_04.ipynb",
      "provenance": [],
      "authorship_tag": "ABX9TyNniJS8x415US6a8C1BCDcC",
      "include_colab_link": true
    },
    "kernelspec": {
      "name": "python3",
      "display_name": "Python 3"
    },
    "language_info": {
      "name": "python"
    }
  },
  "cells": [
    {
      "cell_type": "markdown",
      "metadata": {
        "id": "view-in-github",
        "colab_type": "text"
      },
      "source": [
        "<a href=\"https://colab.research.google.com/github/DISHANTJOSHI1/dishant_data690/blob/main/assignment_04/inclass_session_04.ipynb\" target=\"_parent\"><img src=\"https://colab.research.google.com/assets/colab-badge.svg\" alt=\"Open In Colab\"/></a>"
      ]
    },
    {
      "cell_type": "markdown",
      "source": [
        "# Classwork\n",
        "\n",
        "\n",
        "*   Date: 02/21/2022\n",
        "*   Name: Dishant Fapot\n",
        "\n"
      ],
      "metadata": {
        "id": "jm_t0U750l0I"
      }
    },
    {
      "cell_type": "code",
      "source": [
        "import random\n",
        "import re\n",
        "for i in range(0,10):\n",
        "    print(end=\"\\n \")\n",
        "    for j in range(0,10):\n",
        "        num=random.randint(0,9)\n",
        "        if (num % 2) == 0:\n",
        "            print(num, end=\" \")\n",
        "        else:\n",
        "            strnum = str(num)\n",
        "            strnum=strnum.replace(strnum,\"@\")\n",
        "            print(strnum, end=\" \")"
      ],
      "metadata": {
        "colab": {
          "base_uri": "https://localhost:8080/"
        },
        "id": "R38I8l-z05nL",
        "outputId": "78333e27-ac1b-4f62-e508-3a12b2fe6681"
      },
      "execution_count": 1,
      "outputs": [
        {
          "output_type": "stream",
          "name": "stdout",
          "text": [
            "\n",
            " 0 @ @ @ 6 2 @ @ 6 @ \n",
            " @ @ 8 8 0 6 @ @ @ 8 \n",
            " @ 8 @ 0 4 2 @ 0 0 8 \n",
            " 4 0 @ 0 @ 4 8 @ 4 8 \n",
            " 6 4 @ 2 @ @ @ 8 6 @ \n",
            " 4 0 8 @ @ 8 6 2 6 2 \n",
            " @ @ @ 0 @ 4 @ @ 6 @ \n",
            " 0 @ @ @ @ @ 2 0 8 @ \n",
            " 0 6 8 8 8 @ @ @ @ 4 \n",
            " 6 0 0 @ @ 4 @ 0 @ 0 "
          ]
        }
      ]
    },
    {
      "cell_type": "code",
      "source": [
        "x = 'Hello world'"
      ],
      "metadata": {
        "id": "VupjfkCd090q"
      },
      "execution_count": 6,
      "outputs": []
    },
    {
      "cell_type": "code",
      "source": [
        "x.replace('Hello','Hi')"
      ],
      "metadata": {
        "colab": {
          "base_uri": "https://localhost:8080/",
          "height": 35
        },
        "id": "OLSnyTws5MeR",
        "outputId": "92ceba85-2f58-42e0-8735-e016441a2e17"
      },
      "execution_count": 7,
      "outputs": [
        {
          "output_type": "execute_result",
          "data": {
            "application/vnd.google.colaboratory.intrinsic+json": {
              "type": "string"
            },
            "text/plain": [
              "'Hi world'"
            ]
          },
          "metadata": {},
          "execution_count": 7
        }
      ]
    },
    {
      "cell_type": "code",
      "source": [
        "numbers = [100]\n",
        "count=0\n",
        "for i in range(10):\n",
        "    for j in range(10):\n",
        "        print(numbers[count],\" \", end =\" \")\n",
        "        count+=1\n",
        "    print(\"\\n\")"
      ],
      "metadata": {
        "id": "AWWp-zTM5U-j"
      },
      "execution_count": null,
      "outputs": []
    },
    {
      "cell_type": "code",
      "source": [
        "#  generate 100 number first\n",
        "numbers=[]     # This list is to hold 100 random numbers\n",
        "for i in range(100):\n",
        "    numbers.append(random.randint(0, 9))\n",
        "print(numbers)\n",
        "print(len(numbers))"
      ],
      "metadata": {
        "colab": {
          "base_uri": "https://localhost:8080/"
        },
        "id": "O5x8n8__530x",
        "outputId": "bb2f75e7-5528-42c8-a8f7-bb5d0c55200b"
      },
      "execution_count": 12,
      "outputs": [
        {
          "output_type": "stream",
          "name": "stdout",
          "text": [
            "[6, 8, 8, 0, 7, 8, 8, 5, 0, 1, 9, 4, 9, 2, 2, 8, 2, 9, 3, 6, 0, 8, 7, 4, 0, 3, 5, 3, 8, 3, 1, 5, 5, 4, 9, 4, 5, 8, 9, 4, 8, 1, 9, 9, 3, 2, 5, 6, 0, 5, 8, 6, 3, 9, 5, 7, 3, 9, 4, 0, 2, 7, 3, 8, 1, 5, 8, 3, 7, 8, 2, 6, 5, 4, 8, 1, 6, 2, 9, 1, 2, 9, 0, 4, 0, 4, 5, 6, 9, 8, 1, 4, 8, 5, 6, 5, 2, 0, 1, 9]\n",
            "100\n"
          ]
        }
      ]
    },
    {
      "cell_type": "code",
      "source": [
        "x = [0,0,0,0,0,0]\n",
        "x"
      ],
      "metadata": {
        "colab": {
          "base_uri": "https://localhost:8080/"
        },
        "id": "8EXx7RN-6Qvs",
        "outputId": "8776d21c-8e69-48fd-ff1a-ec7e2956c6e2"
      },
      "execution_count": 15,
      "outputs": [
        {
          "output_type": "execute_result",
          "data": {
            "text/plain": [
              "[0, 0, 0, 0, 0, 0]"
            ]
          },
          "metadata": {},
          "execution_count": 15
        }
      ]
    },
    {
      "cell_type": "code",
      "source": [
        "x = [0]*6\n",
        "x"
      ],
      "metadata": {
        "colab": {
          "base_uri": "https://localhost:8080/"
        },
        "id": "lQQ00y1W7pv6",
        "outputId": "1bb758a0-acf8-4616-9baf-5cae2c2d4577"
      },
      "execution_count": 16,
      "outputs": [
        {
          "output_type": "execute_result",
          "data": {
            "text/plain": [
              "[0, 0, 0, 0, 0, 0]"
            ]
          },
          "metadata": {},
          "execution_count": 16
        }
      ]
    },
    {
      "cell_type": "code",
      "source": [
        ""
      ],
      "metadata": {
        "id": "FKxS9OQP7tjS"
      },
      "execution_count": null,
      "outputs": []
    }
  ]
}