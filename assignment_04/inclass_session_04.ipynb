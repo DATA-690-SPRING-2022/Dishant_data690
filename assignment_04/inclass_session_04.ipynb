{
  "nbformat": 4,
  "nbformat_minor": 0,
  "metadata": {
    "colab": {
      "name": "inclass_session_04.ipynb",
      "provenance": [],
      "authorship_tag": "ABX9TyOzbGDFxdk5dNz5uW+M8l3O",
      "include_colab_link": true
    },
    "kernelspec": {
      "name": "python3",
      "display_name": "Python 3"
    },
    "language_info": {
      "name": "python"
    }
  },
  "cells": [
    {
      "cell_type": "markdown",
      "metadata": {
        "id": "view-in-github",
        "colab_type": "text"
      },
      "source": [
        "<a href=\"https://colab.research.google.com/github/DISHANTJOSHI1/dishant_data690/blob/main/assignment_04/inclass_session_04.ipynb\" target=\"_parent\"><img src=\"https://colab.research.google.com/assets/colab-badge.svg\" alt=\"Open In Colab\"/></a>"
      ]
    },
    {
      "cell_type": "markdown",
      "source": [
        "# Classwork\n",
        "\n",
        "\n",
        "*   Date: 02/21/2022\n",
        "*   Name: Dishant Fapot\n",
        "\n"
      ],
      "metadata": {
        "id": "jm_t0U750l0I"
      }
    },
    {
      "cell_type": "code",
      "source": [
        "import random\n",
        "import re\n",
        "for i in range(0,10):\n",
        "    print(end=\"\\n \")\n",
        "    for j in range(0,10):\n",
        "        num=random.randint(0,9)\n",
        "        if (num % 2) == 0:\n",
        "            print(num, end=\" \")\n",
        "        else:\n",
        "            strnum = str(num)\n",
        "            strnum=strnum.replace(strnum,\"@\")\n",
        "            print(strnum, end=\" \")"
      ],
      "metadata": {
        "colab": {
          "base_uri": "https://localhost:8080/"
        },
        "id": "R38I8l-z05nL",
        "outputId": "78333e27-ac1b-4f62-e508-3a12b2fe6681"
      },
      "execution_count": 1,
      "outputs": [
        {
          "output_type": "stream",
          "name": "stdout",
          "text": [
            "\n",
            " 0 @ @ @ 6 2 @ @ 6 @ \n",
            " @ @ 8 8 0 6 @ @ @ 8 \n",
            " @ 8 @ 0 4 2 @ 0 0 8 \n",
            " 4 0 @ 0 @ 4 8 @ 4 8 \n",
            " 6 4 @ 2 @ @ @ 8 6 @ \n",
            " 4 0 8 @ @ 8 6 2 6 2 \n",
            " @ @ @ 0 @ 4 @ @ 6 @ \n",
            " 0 @ @ @ @ @ 2 0 8 @ \n",
            " 0 6 8 8 8 @ @ @ @ 4 \n",
            " 6 0 0 @ @ 4 @ 0 @ 0 "
          ]
        }
      ]
    },
    {
      "cell_type": "code",
      "source": [
        "x = 'Hello world'"
      ],
      "metadata": {
        "id": "VupjfkCd090q"
      },
      "execution_count": 6,
      "outputs": []
    },
    {
      "cell_type": "code",
      "source": [
        "x.replace('Hello','Hi')"
      ],
      "metadata": {
        "colab": {
          "base_uri": "https://localhost:8080/",
          "height": 35
        },
        "id": "OLSnyTws5MeR",
        "outputId": "92ceba85-2f58-42e0-8735-e016441a2e17"
      },
      "execution_count": 7,
      "outputs": [
        {
          "output_type": "execute_result",
          "data": {
            "application/vnd.google.colaboratory.intrinsic+json": {
              "type": "string"
            },
            "text/plain": [
              "'Hi world'"
            ]
          },
          "metadata": {},
          "execution_count": 7
        }
      ]
    },
    {
      "cell_type": "code",
      "source": [
        "# generate 100 numbers first\n",
        "numbers= []\n",
        "for i in range(100):\n",
        "  numbers.append(random.randint(0,9))\n",
        "\n",
        "print(numbers)\n",
        "print(len(numbers))"
      ],
      "metadata": {
        "colab": {
          "base_uri": "https://localhost:8080/"
        },
        "id": "AWWp-zTM5U-j",
        "outputId": "85a57766-c467-4017-c75b-f8ccaa65e36c"
      },
      "execution_count": 17,
      "outputs": [
        {
          "output_type": "stream",
          "name": "stdout",
          "text": [
            "[1, 2, 5, 2, 5, 6, 5, 2, 8, 6, 0, 2, 3, 9, 1, 0, 7, 3, 2, 3, 6, 6, 1, 6, 1, 1, 2, 8, 0, 5, 0, 9, 7, 3, 7, 1, 3, 5, 8, 1, 1, 2, 1, 7, 7, 0, 7, 7, 2, 1, 2, 1, 4, 9, 8, 8, 6, 4, 1, 0, 3, 4, 6, 5, 8, 4, 0, 8, 4, 2, 5, 9, 8, 1, 3, 5, 7, 6, 3, 7, 7, 4, 8, 7, 7, 5, 8, 8, 3, 2, 2, 8, 1, 2, 5, 3, 2, 1, 7, 3]\n",
            "100\n"
          ]
        }
      ]
    },
    {
      "cell_type": "code",
      "source": [
        "for i in range(0,100,1):\n",
        "  print(\"index = \",i,\"numbers = \",numbers[i])"
      ],
      "metadata": {
        "colab": {
          "base_uri": "https://localhost:8080/"
        },
        "id": "nVO-phGu8Mu9",
        "outputId": "0a9f878d-06df-4b69-b581-d5b80539d522"
      },
      "execution_count": 18,
      "outputs": [
        {
          "output_type": "stream",
          "name": "stdout",
          "text": [
            "index =  0 numbers =  1\n",
            "index =  1 numbers =  2\n",
            "index =  2 numbers =  5\n",
            "index =  3 numbers =  2\n",
            "index =  4 numbers =  5\n",
            "index =  5 numbers =  6\n",
            "index =  6 numbers =  5\n",
            "index =  7 numbers =  2\n",
            "index =  8 numbers =  8\n",
            "index =  9 numbers =  6\n",
            "index =  10 numbers =  0\n",
            "index =  11 numbers =  2\n",
            "index =  12 numbers =  3\n",
            "index =  13 numbers =  9\n",
            "index =  14 numbers =  1\n",
            "index =  15 numbers =  0\n",
            "index =  16 numbers =  7\n",
            "index =  17 numbers =  3\n",
            "index =  18 numbers =  2\n",
            "index =  19 numbers =  3\n",
            "index =  20 numbers =  6\n",
            "index =  21 numbers =  6\n",
            "index =  22 numbers =  1\n",
            "index =  23 numbers =  6\n",
            "index =  24 numbers =  1\n",
            "index =  25 numbers =  1\n",
            "index =  26 numbers =  2\n",
            "index =  27 numbers =  8\n",
            "index =  28 numbers =  0\n",
            "index =  29 numbers =  5\n",
            "index =  30 numbers =  0\n",
            "index =  31 numbers =  9\n",
            "index =  32 numbers =  7\n",
            "index =  33 numbers =  3\n",
            "index =  34 numbers =  7\n",
            "index =  35 numbers =  1\n",
            "index =  36 numbers =  3\n",
            "index =  37 numbers =  5\n",
            "index =  38 numbers =  8\n",
            "index =  39 numbers =  1\n",
            "index =  40 numbers =  1\n",
            "index =  41 numbers =  2\n",
            "index =  42 numbers =  1\n",
            "index =  43 numbers =  7\n",
            "index =  44 numbers =  7\n",
            "index =  45 numbers =  0\n",
            "index =  46 numbers =  7\n",
            "index =  47 numbers =  7\n",
            "index =  48 numbers =  2\n",
            "index =  49 numbers =  1\n",
            "index =  50 numbers =  2\n",
            "index =  51 numbers =  1\n",
            "index =  52 numbers =  4\n",
            "index =  53 numbers =  9\n",
            "index =  54 numbers =  8\n",
            "index =  55 numbers =  8\n",
            "index =  56 numbers =  6\n",
            "index =  57 numbers =  4\n",
            "index =  58 numbers =  1\n",
            "index =  59 numbers =  0\n",
            "index =  60 numbers =  3\n",
            "index =  61 numbers =  4\n",
            "index =  62 numbers =  6\n",
            "index =  63 numbers =  5\n",
            "index =  64 numbers =  8\n",
            "index =  65 numbers =  4\n",
            "index =  66 numbers =  0\n",
            "index =  67 numbers =  8\n",
            "index =  68 numbers =  4\n",
            "index =  69 numbers =  2\n",
            "index =  70 numbers =  5\n",
            "index =  71 numbers =  9\n",
            "index =  72 numbers =  8\n",
            "index =  73 numbers =  1\n",
            "index =  74 numbers =  3\n",
            "index =  75 numbers =  5\n",
            "index =  76 numbers =  7\n",
            "index =  77 numbers =  6\n",
            "index =  78 numbers =  3\n",
            "index =  79 numbers =  7\n",
            "index =  80 numbers =  7\n",
            "index =  81 numbers =  4\n",
            "index =  82 numbers =  8\n",
            "index =  83 numbers =  7\n",
            "index =  84 numbers =  7\n",
            "index =  85 numbers =  5\n",
            "index =  86 numbers =  8\n",
            "index =  87 numbers =  8\n",
            "index =  88 numbers =  3\n",
            "index =  89 numbers =  2\n",
            "index =  90 numbers =  2\n",
            "index =  91 numbers =  8\n",
            "index =  92 numbers =  1\n",
            "index =  93 numbers =  2\n",
            "index =  94 numbers =  5\n",
            "index =  95 numbers =  3\n",
            "index =  96 numbers =  2\n",
            "index =  97 numbers =  1\n",
            "index =  98 numbers =  7\n",
            "index =  99 numbers =  3\n"
          ]
        }
      ]
    },
    {
      "cell_type": "code",
      "source": [
        "#  generate 100 number first\n",
        "numbers=[]     # This list is to hold 100 random numbers\n",
        "for i in range(100):\n",
        "    numbers.append(random.randint(0, 9))\n",
        "print(numbers)\n",
        "print(len(numbers))"
      ],
      "metadata": {
        "colab": {
          "base_uri": "https://localhost:8080/"
        },
        "id": "O5x8n8__530x",
        "outputId": "bb2f75e7-5528-42c8-a8f7-bb5d0c55200b"
      },
      "execution_count": 12,
      "outputs": [
        {
          "output_type": "stream",
          "name": "stdout",
          "text": [
            "[6, 8, 8, 0, 7, 8, 8, 5, 0, 1, 9, 4, 9, 2, 2, 8, 2, 9, 3, 6, 0, 8, 7, 4, 0, 3, 5, 3, 8, 3, 1, 5, 5, 4, 9, 4, 5, 8, 9, 4, 8, 1, 9, 9, 3, 2, 5, 6, 0, 5, 8, 6, 3, 9, 5, 7, 3, 9, 4, 0, 2, 7, 3, 8, 1, 5, 8, 3, 7, 8, 2, 6, 5, 4, 8, 1, 6, 2, 9, 1, 2, 9, 0, 4, 0, 4, 5, 6, 9, 8, 1, 4, 8, 5, 6, 5, 2, 0, 1, 9]\n",
            "100\n"
          ]
        }
      ]
    },
    {
      "cell_type": "code",
      "source": [
        "count= 0\n",
        "for i in range(10):\n",
        "  for j in range(10):\n",
        "    print(numbers[count],\" \", end =\" \")\n",
        "    count+=1\n",
        "  print(\"\\n\")"
      ],
      "metadata": {
        "colab": {
          "base_uri": "https://localhost:8080/"
        },
        "id": "IBUhPbH_8RIn",
        "outputId": "81c93809-2bfc-407d-a421-aa6af0e8d984"
      },
      "execution_count": 19,
      "outputs": [
        {
          "output_type": "stream",
          "name": "stdout",
          "text": [
            "1   2   5   2   5   6   5   2   8   6   \n",
            "\n",
            "0   2   3   9   1   0   7   3   2   3   \n",
            "\n",
            "6   6   1   6   1   1   2   8   0   5   \n",
            "\n",
            "0   9   7   3   7   1   3   5   8   1   \n",
            "\n",
            "1   2   1   7   7   0   7   7   2   1   \n",
            "\n",
            "2   1   4   9   8   8   6   4   1   0   \n",
            "\n",
            "3   4   6   5   8   4   0   8   4   2   \n",
            "\n",
            "5   9   8   1   3   5   7   6   3   7   \n",
            "\n",
            "7   4   8   7   7   5   8   8   3   2   \n",
            "\n",
            "2   8   1   2   5   3   2   1   7   3   \n",
            "\n"
          ]
        }
      ]
    },
    {
      "cell_type": "code",
      "source": [
        "# when to intialize a variable\n",
        "\n",
        "sum = 0\n",
        "for n in range(10):\n",
        "  for i in range(10):\n",
        "    y=random.randint(0,9)\n",
        "    sum=sum+y\n",
        "    print(y, end=\" \")\n",
        "  print(\"*\",sum,end=\"\\n\")\n",
        "  sum=0"
      ],
      "metadata": {
        "colab": {
          "base_uri": "https://localhost:8080/"
        },
        "id": "Me15Vume8Uxo",
        "outputId": "2b8e1ef5-5664-4425-8c6b-0e0151219854"
      },
      "execution_count": 20,
      "outputs": [
        {
          "output_type": "stream",
          "name": "stdout",
          "text": [
            "3 9 1 5 5 2 9 8 3 3 * 48\n",
            "9 2 9 6 7 8 7 2 0 5 * 55\n",
            "4 7 3 3 3 4 9 7 9 7 * 56\n",
            "3 8 4 5 4 3 5 7 9 2 * 50\n",
            "1 9 9 5 3 5 0 7 0 1 * 40\n",
            "3 0 9 0 9 2 9 1 5 7 * 45\n",
            "5 6 1 4 3 8 2 8 9 4 * 50\n",
            "2 0 3 1 5 9 9 1 5 1 * 36\n",
            "4 8 5 6 6 5 0 2 8 7 * 51\n",
            "5 4 7 4 4 0 0 7 7 9 * 47\n"
          ]
        }
      ]
    },
    {
      "cell_type": "code",
      "source": [
        "# when to intialize a variable\n",
        "\n",
        "for n in range(10):\n",
        "  sum=0\n",
        "  for i in range(10):\n",
        "    y=random.randint(0,9)\n",
        "    sum=sum+y\n",
        "    print(y, end=\" \")\n",
        "  print(\"*\",sum,end=\"\\n\")"
      ],
      "metadata": {
        "colab": {
          "base_uri": "https://localhost:8080/"
        },
        "id": "twLH_b7g8ZIx",
        "outputId": "1a98b5b1-4591-4cff-f95d-8a9a9325e577"
      },
      "execution_count": 21,
      "outputs": [
        {
          "output_type": "stream",
          "name": "stdout",
          "text": [
            "1 2 5 4 0 0 7 3 9 6 * 37\n",
            "5 2 9 2 0 5 5 8 8 2 * 46\n",
            "2 6 6 1 4 6 7 2 1 0 * 35\n",
            "0 2 2 4 6 0 2 8 1 4 * 29\n",
            "5 1 8 9 3 9 7 4 8 5 * 59\n",
            "9 4 2 9 3 0 2 5 8 8 * 50\n",
            "6 2 2 9 8 2 9 1 1 0 * 40\n",
            "8 4 6 7 7 6 5 4 1 7 * 55\n",
            "3 6 6 4 0 4 0 2 2 2 * 29\n",
            "1 0 2 5 8 9 3 2 0 8 * 38\n"
          ]
        }
      ]
    },
    {
      "cell_type": "code",
      "source": [
        "x = [0,0,0,0,0,0]\n",
        "x"
      ],
      "metadata": {
        "colab": {
          "base_uri": "https://localhost:8080/"
        },
        "id": "8EXx7RN-6Qvs",
        "outputId": "8776d21c-8e69-48fd-ff1a-ec7e2956c6e2"
      },
      "execution_count": 15,
      "outputs": [
        {
          "output_type": "execute_result",
          "data": {
            "text/plain": [
              "[0, 0, 0, 0, 0, 0]"
            ]
          },
          "metadata": {},
          "execution_count": 15
        }
      ]
    },
    {
      "cell_type": "code",
      "source": [
        "x = [0]*6\n",
        "x"
      ],
      "metadata": {
        "colab": {
          "base_uri": "https://localhost:8080/"
        },
        "id": "lQQ00y1W7pv6",
        "outputId": "1bb758a0-acf8-4616-9baf-5cae2c2d4577"
      },
      "execution_count": 16,
      "outputs": [
        {
          "output_type": "execute_result",
          "data": {
            "text/plain": [
              "[0, 0, 0, 0, 0, 0]"
            ]
          },
          "metadata": {},
          "execution_count": 16
        }
      ]
    },
    {
      "cell_type": "code",
      "source": [
        ""
      ],
      "metadata": {
        "id": "FKxS9OQP7tjS"
      },
      "execution_count": null,
      "outputs": []
    }
  ]
}