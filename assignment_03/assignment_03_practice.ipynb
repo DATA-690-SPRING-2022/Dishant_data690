{
  "nbformat": 4,
  "nbformat_minor": 0,
  "metadata": {
    "colab": {
      "name": "assignment_03_practice.ipynb",
      "provenance": [],
      "authorship_tag": "ABX9TyO9Fe7zvorXoAWCb58WjFs1",
      "include_colab_link": true
    },
    "kernelspec": {
      "name": "python3",
      "display_name": "Python 3"
    },
    "language_info": {
      "name": "python"
    }
  },
  "cells": [
    {
      "cell_type": "markdown",
      "metadata": {
        "id": "view-in-github",
        "colab_type": "text"
      },
      "source": [
        "<a href=\"https://colab.research.google.com/github/DISHANTJOSHI1/dishant_data690/blob/main/assignment_03/assignment_03_practice.ipynb\" target=\"_parent\"><img src=\"https://colab.research.google.com/assets/colab-badge.svg\" alt=\"Open In Colab\"/></a>"
      ]
    },
    {
      "cell_type": "code",
      "execution_count": 2,
      "metadata": {
        "colab": {
          "base_uri": "https://localhost:8080/"
        },
        "id": "YIppLTomxv5l",
        "outputId": "c60e8a78-e400-49dc-9b7d-728acd307929"
      },
      "outputs": [
        {
          "output_type": "execute_result",
          "data": {
            "text/plain": [
              "[12, 3, 4, 5, 'Dishant']"
            ]
          },
          "metadata": {},
          "execution_count": 2
        }
      ],
      "source": [
        "x = [12,3,4,5, 'Dishant']\n",
        "x"
      ]
    },
    {
      "cell_type": "code",
      "source": [
        "12 in x"
      ],
      "metadata": {
        "colab": {
          "base_uri": "https://localhost:8080/"
        },
        "id": "MklYvfUfyEiC",
        "outputId": "0ca6fa87-cf10-4e4a-8cde-85a1815879f9"
      },
      "execution_count": 3,
      "outputs": [
        {
          "output_type": "execute_result",
          "data": {
            "text/plain": [
              "True"
            ]
          },
          "metadata": {},
          "execution_count": 3
        }
      ]
    },
    {
      "cell_type": "code",
      "source": [
        "if 12 in x:\n",
        "  print('12 is a member of x')\n",
        "else:\n",
        "  print('12 not in the list')"
      ],
      "metadata": {
        "colab": {
          "base_uri": "https://localhost:8080/"
        },
        "id": "IwE1rKn7yKX8",
        "outputId": "d7bdc4fb-0de2-4f3b-f12c-431376cb0330"
      },
      "execution_count": 10,
      "outputs": [
        {
          "output_type": "stream",
          "name": "stdout",
          "text": [
            "12 is a member of x\n"
          ]
        }
      ]
    },
    {
      "cell_type": "code",
      "source": [
        "n = input('Enter something to check: ')\n",
        "if n in x:\n",
        "  print('your value {n} is there'.format(n))"
      ],
      "metadata": {
        "colab": {
          "base_uri": "https://localhost:8080/"
        },
        "id": "25wOAbjryQ5v",
        "outputId": "5f9d56be-8984-47e9-cae5-bf684cab92c8"
      },
      "execution_count": 37,
      "outputs": [
        {
          "name": "stdout",
          "output_type": "stream",
          "text": [
            "Enter something to check: 12\n"
          ]
        }
      ]
    },
    {
      "cell_type": "code",
      "source": [
        "for ele in x:\n",
        "  print(ele)"
      ],
      "metadata": {
        "colab": {
          "base_uri": "https://localhost:8080/"
        },
        "id": "DLvXuDHQy3Fp",
        "outputId": "3320310a-1b8b-40d9-e35f-429434377057"
      },
      "execution_count": 36,
      "outputs": [
        {
          "output_type": "stream",
          "name": "stdout",
          "text": [
            "12\n",
            "3\n",
            "4\n",
            "5\n",
            "Dishant\n"
          ]
        }
      ]
    },
    {
      "cell_type": "code",
      "source": [
        "y = [1,3,4,54,56,7,6,676,5]\n",
        "y"
      ],
      "metadata": {
        "colab": {
          "base_uri": "https://localhost:8080/"
        },
        "id": "CNGvAnHazGyg",
        "outputId": "d973f647-1ec9-4010-d8b8-64a3dc7e891b"
      },
      "execution_count": 11,
      "outputs": [
        {
          "output_type": "execute_result",
          "data": {
            "text/plain": [
              "[1, 3, 4, 54, 56, 7, 6, 676, 5]"
            ]
          },
          "metadata": {},
          "execution_count": 11
        }
      ]
    },
    {
      "cell_type": "code",
      "source": [
        "for eleY in y:\n",
        "  print(eleY,end = ' #')"
      ],
      "metadata": {
        "colab": {
          "base_uri": "https://localhost:8080/"
        },
        "id": "cLfZ4riNzVvL",
        "outputId": "10033698-e401-41c1-f1eb-b2173a7e587b"
      },
      "execution_count": 15,
      "outputs": [
        {
          "output_type": "stream",
          "name": "stdout",
          "text": [
            "1 #3 #4 #54 #56 #7 #6 #676 #5 #"
          ]
        }
      ]
    },
    {
      "cell_type": "code",
      "source": [
        "import random"
      ],
      "metadata": {
        "id": "IV0Y1Iaxzkez"
      },
      "execution_count": 16,
      "outputs": []
    },
    {
      "cell_type": "code",
      "source": [
        "random.randint(0,10)"
      ],
      "metadata": {
        "colab": {
          "base_uri": "https://localhost:8080/"
        },
        "id": "lo4bBBOHz2iC",
        "outputId": "2c62569f-244c-4f44-b2f8-f6051ea26fd5"
      },
      "execution_count": 21,
      "outputs": [
        {
          "output_type": "execute_result",
          "data": {
            "text/plain": [
              "2"
            ]
          },
          "metadata": {},
          "execution_count": 21
        }
      ]
    },
    {
      "cell_type": "code",
      "source": [
        "for i in range(10):\n",
        "    for j in range(10):\n",
        "        print(random.randint(0,9),end = ' ')\n",
        "    print('\\n',end= \"\")\n",
        "    # or just print()"
      ],
      "metadata": {
        "colab": {
          "base_uri": "https://localhost:8080/"
        },
        "id": "1CYo4HHf0aLh",
        "outputId": "12837dc4-68a2-4516-b5a9-7c86e960b28f"
      },
      "execution_count": 34,
      "outputs": [
        {
          "output_type": "stream",
          "name": "stdout",
          "text": [
            "6 7 3 3 5 0 3 3 0 4 \n",
            "1 6 5 2 3 5 7 8 6 0 \n",
            "6 5 7 6 6 9 7 2 2 5 \n",
            "0 2 2 6 6 0 6 4 4 9 \n",
            "4 9 6 1 0 3 6 0 9 7 \n",
            "1 1 3 8 0 5 6 1 8 9 \n",
            "8 5 4 8 5 4 6 2 5 2 \n",
            "9 4 6 1 3 7 1 9 1 8 \n",
            "4 0 2 9 5 0 0 0 3 0 \n",
            "0 1 9 4 3 2 6 3 7 8 \n"
          ]
        }
      ]
    },
    {
      "cell_type": "code",
      "source": [
        ""
      ],
      "metadata": {
        "id": "piIhpQEd12LA"
      },
      "execution_count": null,
      "outputs": []
    }
  ]
}