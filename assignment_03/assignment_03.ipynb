{
  "nbformat": 4,
  "nbformat_minor": 0,
  "metadata": {
    "colab": {
      "name": "assignment_03.ipynb",
      "provenance": [],
      "collapsed_sections": [],
      "include_colab_link": true
    },
    "kernelspec": {
      "name": "python3",
      "display_name": "Python 3"
    },
    "language_info": {
      "name": "python"
    }
  },
  "cells": [
    {
      "cell_type": "markdown",
      "metadata": {
        "id": "view-in-github",
        "colab_type": "text"
      },
      "source": [
        "<a href=\"https://colab.research.google.com/github/DISHANTJOSHI1/dishant_data690/blob/main/assignment_03/assignment_03.ipynb\" target=\"_parent\"><img src=\"https://colab.research.google.com/assets/colab-badge.svg\" alt=\"Open In Colab\"/></a>"
      ]
    },
    {
      "cell_type": "code",
      "execution_count": null,
      "metadata": {
        "id": "7D8-SvbFpzZ8"
      },
      "outputs": [],
      "source": [
        "import random"
      ]
    },
    {
      "cell_type": "markdown",
      "source": [
        "#Write a program that generates 100 random integers between 0 and 9."
      ],
      "metadata": {
        "id": "u09rHqbZr2ju"
      }
    },
    {
      "cell_type": "markdown",
      "source": [
        "### 1. Print them in a 10 by 10 matrix neatly arranged like the following (one space between each number):"
      ],
      "metadata": {
        "id": "B0WKTdThrwyc"
      }
    },
    {
      "cell_type": "code",
      "source": [
        "for i in range(10): \n",
        "    for j in range(10):\n",
        "        print(random.randint(0,9),end = ' ') #getting 10 random numbers\n",
        "    print('\\n',end= \"\")\n",
        "    # or just print()"
      ],
      "metadata": {
        "colab": {
          "base_uri": "https://localhost:8080/"
        },
        "id": "L0tVJIyZq-v2",
        "outputId": "55a676ac-e9db-45c2-d5bc-235924f43986"
      },
      "execution_count": null,
      "outputs": [
        {
          "output_type": "stream",
          "name": "stdout",
          "text": [
            "3 5 8 6 6 5 9 0 8 9 \n",
            "0 0 5 7 1 6 5 1 0 3 \n",
            "4 3 1 9 4 4 7 2 6 5 \n",
            "4 6 8 5 0 4 8 0 4 2 \n",
            "6 7 6 8 7 9 7 1 7 5 \n",
            "2 7 7 5 9 0 0 1 2 9 \n",
            "1 6 4 1 5 9 7 7 2 8 \n",
            "6 0 5 2 5 6 9 7 4 0 \n",
            "4 3 8 4 8 1 1 3 4 0 \n",
            "2 4 1 2 9 7 7 0 7 1 \n"
          ]
        }
      ]
    },
    {
      "cell_type": "markdown",
      "source": [
        "### 2. If the random number is an odd number, print \"@\" instead. like the following:"
      ],
      "metadata": {
        "id": "eaG0qHq1r-eH"
      }
    },
    {
      "cell_type": "code",
      "source": [
        "for i in range(10):\n",
        "    for j in range(10):\n",
        "        q = random.randint(0, 9)\n",
        "        if q % 2: #divide each random number by 2 and if there is a remainder left, replace that number with @\n",
        "          q = \"@\" \n",
        "        print(q,end = ' ')\n",
        "    print()"
      ],
      "metadata": {
        "id": "bpM8H-jxrQPV",
        "colab": {
          "base_uri": "https://localhost:8080/"
        },
        "outputId": "5e50633e-f588-4b54-83c8-6f2360b05e8c"
      },
      "execution_count": null,
      "outputs": [
        {
          "output_type": "stream",
          "name": "stdout",
          "text": [
            "@ 6 @ @ @ 6 2 2 2 6 \n",
            "2 4 8 @ 6 @ @ @ 6 2 \n",
            "8 @ 4 @ 8 @ @ @ 4 4 \n",
            "@ 6 8 6 6 @ @ @ @ 2 \n",
            "@ 8 4 @ 0 4 @ 2 2 @ \n",
            "@ @ 2 2 2 @ @ 2 8 6 \n",
            "6 @ @ @ @ 4 @ @ 2 6 \n",
            "4 @ 0 @ 8 4 @ 8 @ @ \n",
            "4 @ 2 4 @ @ 8 @ @ @ \n",
            "@ 2 @ @ 2 6 6 6 4 @ \n"
          ]
        }
      ]
    },
    {
      "cell_type": "markdown",
      "source": [
        "### 3. addition of all numbers in a row"
      ],
      "metadata": {
        "id": "teqyEAjXnQjt"
      }
    },
    {
      "cell_type": "code",
      "source": [
        "for i in range(10):\n",
        "    sum = 0 #defining variable sum to add numbers \n",
        "    for j in range(10):\n",
        "        q = random.randint(0, 9) #getting 10 random numbers \n",
        "        sum  = sum + q \n",
        "        print(q,end = ' ')\n",
        "    print(\"*\", end = ' ')\n",
        "    print(sum)"
      ],
      "metadata": {
        "colab": {
          "base_uri": "https://localhost:8080/"
        },
        "id": "aaIRm2unsd-X",
        "outputId": "9ef163d1-6641-4f67-a786-c08188d6968b"
      },
      "execution_count": null,
      "outputs": [
        {
          "output_type": "stream",
          "name": "stdout",
          "text": [
            "5 6 7 0 6 9 1 2 7 1 * 44\n",
            "6 1 2 8 0 6 9 9 1 3 * 45\n",
            "8 1 8 2 7 4 0 6 1 3 * 40\n",
            "7 4 7 0 3 4 4 9 3 3 * 44\n",
            "2 9 0 3 1 5 0 9 0 0 * 29\n",
            "5 6 5 5 2 3 5 5 9 6 * 51\n",
            "0 1 6 1 0 2 3 9 0 8 * 30\n",
            "3 2 1 7 8 1 1 4 6 0 * 33\n",
            "0 7 4 7 8 8 8 0 7 6 * 55\n",
            "9 4 1 5 5 5 2 4 1 5 * 41\n"
          ]
        }
      ]
    }
  ]
}