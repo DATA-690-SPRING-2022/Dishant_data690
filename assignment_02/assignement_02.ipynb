{
  "nbformat": 4,
  "nbformat_minor": 0,
  "metadata": {
    "colab": {
      "name": "assignement_02.ipynb",
      "provenance": [],
      "collapsed_sections": [],
      "authorship_tag": "ABX9TyP8gHnBRHCgJ0i/leyK2mlK",
      "include_colab_link": true
    },
    "kernelspec": {
      "name": "python3",
      "display_name": "Python 3"
    },
    "language_info": {
      "name": "python"
    }
  },
  "cells": [
    {
      "cell_type": "markdown",
      "metadata": {
        "id": "view-in-github",
        "colab_type": "text"
      },
      "source": [
        "<a href=\"https://colab.research.google.com/github/DISHANTJOSHI1/dishant_data690/blob/main/assignment_02/assignement_02.ipynb\" target=\"_parent\"><img src=\"https://colab.research.google.com/assets/colab-badge.svg\" alt=\"Open In Colab\"/></a>"
      ]
    },
    {
      "cell_type": "markdown",
      "source": [
        "#Name: Dishant Fapot"
      ],
      "metadata": {
        "id": "VIxyhVYeAh41"
      }
    },
    {
      "cell_type": "code",
      "source": [
        "import numpy as np\n",
        "from statistics import variance"
      ],
      "metadata": {
        "id": "gmD4EMJa_U29"
      },
      "execution_count": 59,
      "outputs": []
    },
    {
      "cell_type": "markdown",
      "source": [
        "*Prompt User for 10 integers input*"
      ],
      "metadata": {
        "id": "LP5UMF5BFktI"
      }
    },
    {
      "cell_type": "code",
      "source": [
        "my_numbers = []\n",
        "while len(my_numbers) <= 9:\n",
        "    try:\n",
        "        number = int(input('Enter a number: '))\n",
        "        my_numbers.append(number)\n",
        "    except:\n",
        "        print(\"Please enter a valid integer number\")\n",
        "print('Your numbers are: ', my_numbers)"
      ],
      "metadata": {
        "colab": {
          "base_uri": "https://localhost:8080/"
        },
        "id": "8-XM-jO7Kexn",
        "outputId": "e3f45925-6b05-4e4a-a28a-2909d086c9b4"
      },
      "execution_count": 60,
      "outputs": [
        {
          "output_type": "stream",
          "name": "stdout",
          "text": [
            "Enter a number: 1\n",
            "Enter a number: 2\n",
            "Enter a number: 3\n",
            "Enter a number: 4\n",
            "Enter a number: 5\n",
            "Enter a number: 6\n",
            "Enter a number: 7\n",
            "Enter a number: 8\n",
            "Enter a number: 9\n",
            "Enter a number: 0\n",
            "Your numbers are:  [1, 2, 3, 4, 5, 6, 7, 8, 9, 0]\n"
          ]
        }
      ]
    },
    {
      "cell_type": "code",
      "source": [
        "my_numbers.sort()\n",
        "my_numbers"
      ],
      "metadata": {
        "colab": {
          "base_uri": "https://localhost:8080/"
        },
        "id": "JHt4jWbQ6mOk",
        "outputId": "7c6eecfa-ba75-4274-914d-c950bcb625bc"
      },
      "execution_count": 61,
      "outputs": [
        {
          "output_type": "execute_result",
          "data": {
            "text/plain": [
              "[0, 1, 2, 3, 4, 5, 6, 7, 8, 9]"
            ]
          },
          "metadata": {},
          "execution_count": 61
        }
      ]
    },
    {
      "cell_type": "markdown",
      "source": [
        "*Finding minimum number from the list*"
      ],
      "metadata": {
        "id": "hTFxLnymF6NQ"
      }
    },
    {
      "cell_type": "code",
      "source": [
        "min_number = my_numbers[0]\n",
        " \n",
        "for i in range(len(my_numbers)):\n",
        " \n",
        "    # If the other element is min than first element\n",
        "    if my_numbers[i] < min_number:\n",
        "        min_number = my_numbers[i] #It will change\n",
        " \n",
        "print(\"The smallest element in the list is:\",min_number)"
      ],
      "metadata": {
        "colab": {
          "base_uri": "https://localhost:8080/"
        },
        "id": "Xf_oCB9FBoiF",
        "outputId": "e3ba6921-94e3-4aee-add4-9ec4b08f2f5a"
      },
      "execution_count": 63,
      "outputs": [
        {
          "output_type": "stream",
          "name": "stdout",
          "text": [
            "The smallest element in the list is: 0\n"
          ]
        }
      ]
    },
    {
      "cell_type": "markdown",
      "source": [
        "\n",
        "\n",
        "*Finding maximum number from the list*"
      ],
      "metadata": {
        "id": "Ns2Xyvh5GH0k"
      }
    },
    {
      "cell_type": "code",
      "source": [
        "max_number = my_numbers[0]\n",
        " \n",
        "for i in range(len(my_numbers)):\n",
        "    # If the other element is max than first element\n",
        "    if my_numbers[i] > max_number:\n",
        "        max_number = my_numbers[i] #It will change\n",
        "print(\"The maximum number in the list is:\",max_number)"
      ],
      "metadata": {
        "colab": {
          "base_uri": "https://localhost:8080/"
        },
        "id": "vI8OS2ieCwVO",
        "outputId": "adc189fa-52bb-4962-ac9a-129dd304d225"
      },
      "execution_count": 64,
      "outputs": [
        {
          "output_type": "stream",
          "name": "stdout",
          "text": [
            "The maximum number in the list is: 9\n"
          ]
        }
      ]
    },
    {
      "cell_type": "markdown",
      "source": [
        "*Finding Range*"
      ],
      "metadata": {
        "id": "Daizx7rxGV09"
      }
    },
    {
      "cell_type": "code",
      "source": [
        "print('Range number in the list is:',(min_number,max_number))"
      ],
      "metadata": {
        "colab": {
          "base_uri": "https://localhost:8080/"
        },
        "id": "yAuVNaDgDGyp",
        "outputId": "5a2b7300-1a13-47fd-b22f-908fcf6d3a60"
      },
      "execution_count": 65,
      "outputs": [
        {
          "output_type": "stream",
          "name": "stdout",
          "text": [
            "Range number in the list is: (0, 9)\n"
          ]
        }
      ]
    },
    {
      "cell_type": "markdown",
      "source": [
        "*Getting Mean*"
      ],
      "metadata": {
        "id": "qAGVm6yzGka-"
      }
    },
    {
      "cell_type": "code",
      "source": [
        "total = 0\n",
        "for number in range(0, len(my_numbers)):\n",
        "    total = total + my_numbers[number]\n",
        "    mean = total/len(my_numbers)\n",
        "print('Mean of numbers in the list is:',mean)"
      ],
      "metadata": {
        "colab": {
          "base_uri": "https://localhost:8080/"
        },
        "id": "DGfT9UK3EJhx",
        "outputId": "861772f1-3541-4313-d4ce-64fcce3386d6"
      },
      "execution_count": 66,
      "outputs": [
        {
          "output_type": "stream",
          "name": "stdout",
          "text": [
            "Mean of numbers in the list is: 4.5\n"
          ]
        }
      ]
    },
    {
      "cell_type": "markdown",
      "source": [
        "*Variance and Standared Deviation*"
      ],
      "metadata": {
        "id": "WtqdURZbGoI5"
      }
    },
    {
      "cell_type": "code",
      "source": [
        "var = sum((num-mean)**2 for num in my_numbers) / len(my_numbers) #finding varience using list comprehension\n",
        "print('Varience of numbers in the list is: ',var)"
      ],
      "metadata": {
        "colab": {
          "base_uri": "https://localhost:8080/"
        },
        "id": "ZW_j5pm1HWGC",
        "outputId": "53c33e2f-61f3-4418-b263-d164de5fa0c9"
      },
      "execution_count": 67,
      "outputs": [
        {
          "output_type": "stream",
          "name": "stdout",
          "text": [
            "Varience of numbers in the list is:  8.25\n"
          ]
        }
      ]
    },
    {
      "cell_type": "code",
      "source": [
        "std_dev = var ** 0.5\n",
        "print('Standared Deviation of numbers in the list is: ',std_dev)"
      ],
      "metadata": {
        "colab": {
          "base_uri": "https://localhost:8080/"
        },
        "id": "pL5ljpwBN8Um",
        "outputId": "1b8d8eb4-cbae-47fe-f1bc-7eb0cbea73d6"
      },
      "execution_count": 68,
      "outputs": [
        {
          "output_type": "stream",
          "name": "stdout",
          "text": [
            "Standared Deviation of numbers in the list is:  2.8722813232690143\n"
          ]
        }
      ]
    },
    {
      "cell_type": "code",
      "source": [
        "# # EASY WAY\n",
        "# print('Minimum number in the list is: ',my_numbers[0])\n",
        "# print('Maximum number in the list is: ',my_numbers[-1])\n",
        "# print('Range number in the list is: ',(my_numbers[0],my_numbers[-1]))\n",
        "# print('Mean of numbers in the list is: ',(sum(my_numbers))/len(my_numbers))\n",
        "# print('Varience of numbers in the list is: ',variance(my_numbers))\n",
        "# print('Standared Deviation of numbers in the list is: ',np.std(my_numbers))"
      ],
      "metadata": {
        "id": "IwOsAm6eO7-D"
      },
      "execution_count": null,
      "outputs": []
    },
    {
      "cell_type": "markdown",
      "source": [
        "References: \n",
        "\n",
        "\n",
        "*   https://www.geeksforgeeks.org/python-program-to-find-smallest-number-in-a-list/\n",
        "*   https://www.statisticshowto.com/calculators/variance-and-standard-deviation-calculator/\n",
        "\n",
        "\n",
        "\n",
        "\n",
        "\n"
      ],
      "metadata": {
        "id": "c4gB3NkEEeeu"
      }
    }
  ]
}